{
 "cells": [
  {
   "cell_type": "markdown",
   "metadata": {},
   "source": [
    "# 建模流程Check list"
   ]
  },
  {
   "cell_type": "markdown",
   "metadata": {},
   "source": [
    "## 问题定义（打标）"
   ]
  },
  {
   "cell_type": "markdown",
   "metadata": {},
   "source": [
    "1. 分析业务流程并挑选关键环节作为切入点，挑选原则\n",
    "   - 具有业务意义，*如：KPI指标、或转化较低的环节等*\n",
    "   - 有可靠数据支持， *如：无法获取客户浏览短信的数据，则不能将浏览与否作为打标依据，可考虑使用登录行为替代*"
   ]
  },
  {
   "cell_type": "markdown",
   "metadata": {},
   "source": [
    "2. 将业务目标抽象为具体的问题\n",
    "   - 分类\n",
    "   - 聚类\n",
    "   - 回归等"
   ]
  },
  {
   "cell_type": "markdown",
   "metadata": {},
   "source": [
    "## SQL（数据粗加工）"
   ]
  },
  {
   "cell_type": "markdown",
   "metadata": {},
   "source": [
    "1. 样本选取\n",
    "   - 根据业务目标确定目标客群\n",
    "   - 根据目标客群数据量判断是否需要抽样\n"
   ]
  },
  {
   "cell_type": "markdown",
   "metadata": {},
   "source": [
    "2. 特征粗筛\n",
    "   - 为避免数据量过大，需根据业务目标挑选相关分类的特征进行加工"
   ]
  },
  {
   "cell_type": "markdown",
   "metadata": {},
   "source": [
    "> 注意：观察期（特征加工）与表现期（打标）使用的数据不能有时间上的重叠"
   ]
  },
  {
   "cell_type": "markdown",
   "metadata": {},
   "source": [
    "3. **Code check list**\n",
    "   - 没有按照通用的格式对齐各字段，字段类型以及字段说明等\n",
    "   - 没有在`case when`语句最后添加上`else null end`或者`else 0 end`\n",
    "   - 在impala查询语句中，不能在`left join`条件里面加上不等式，如：>=，<=等\n",
    "   - sql语句中存在大量不必要的`select distinct`语句\n",
    "   - 存在类似于`select *`，`select count(*)`的语句，不符合规范，尽量只选取需要的列\n",
    "   - 注意少用子查询，可用`with subquerry as table name`语法代替提高并行度，对于反复使用的逻辑建立中间表提高代码复用率\n",
    "   - 注意使用**谓词下推**提高运行效率，将过滤表达式尽可能移动至靠近数据源的位置，以使真正执行时能直接跳过无关的数据"
   ]
  },
  {
   "cell_type": "markdown",
   "metadata": {},
   "source": [
    "## Python（数据细加工&建模）"
   ]
  },
  {
   "cell_type": "markdown",
   "metadata": {},
   "source": [
    "1. 数据探索\n",
    "   - 特征中能否挖掘出有效的专家规则？\n",
    "      - 若有则可以直接通过部署专家规则的形式解决问题，节省开发时间\n",
    "      - 方法：绘制分布图、相关性分析等\n",
    "   - 样本是否平衡？\n",
    "      - 若极不平衡(通常正负样本比例<1/10)，则需进行样本平衡\n",
    "      - 方法：过（欠）采样、人工合成少数样本、迁移学习等"
   ]
  },
  {
   "cell_type": "markdown",
   "metadata": {},
   "source": [
    "2. 特征加工（根据业务、数据以及所选模型情况决定）\n",
    "   - 数据类型转化\n",
    "   - 空缺值&异常值处理\n",
    "   - 标准化、归一化（针对特定模型，如：广义线性模型）\n",
    "   - 分桶\n",
    "   - 特征交叉\n",
    "   - 降维"
   ]
  },
  {
   "cell_type": "markdown",
   "metadata": {},
   "source": [
    "3. 训练、验证和测试样本划分\n",
    "   - 训练：在部分样本中学习数据的概率分布\n",
    "   - 验证：用训练数据之外的数据调整模型超参，平衡偏差和方差，提高模型泛化性能\n",
    "   - 测试：用训练及验证之外的数据对模型性能进行离线测试"
   ]
  },
  {
   "cell_type": "markdown",
   "metadata": {},
   "source": [
    "> 注意：\n",
    "> 1. 训练、验证和测试数据集尽量不要产生人与时间的交叉 \n",
    "> 2. 为避免由于人为数据集划分不均导致的测试效果不客观，可以使用交叉验证"
   ]
  },
  {
   "cell_type": "markdown",
   "metadata": {},
   "source": [
    "4. 模型训练&评估\n",
    "   - Baseline model\n",
    "   - 树模型\n",
    "   - 集成模型\n",
    "   - 神经网络"
   ]
  },
  {
   "cell_type": "markdown",
   "metadata": {},
   "source": [
    "5. 效果&效能提升\n",
    "   - 特征选择：根据模型初步训练结果筛选重要特征\n",
    "   - 模型选择：根据模型初步训练结果筛选效果好的模型\n",
    "   - 模型融合：将多个模型结果进行融合\n",
    "   - Refit：将验证与测试数据集用于训练"
   ]
  },
  {
   "cell_type": "markdown",
   "metadata": {},
   "source": [
    "> 注意：模型融合中子模型最好分属于不同分类"
   ]
  },
  {
   "cell_type": "markdown",
   "metadata": {},
   "source": [
    "6. Code check list\n",
    "   - 代码注释是否清晰，命名是否规范\n",
    "      - 变量&函数命名:小写字母，单词之间用下划线分割，如：`local_var, get_value()`\n",
    "      - 模块&包命名：小写字母，单词之间用下划线分割，如：`tree_stats.py`\n",
    "      - 类命名：单词首字母大写，如：`TreeNode`\n",
    "   - 变量统一定义，是否存在硬编码现象\n",
    "   - 重复的操作是否抽象成模块、类或函数\n",
    "   - 循环操作是否可用矩阵操作替代"
   ]
  },
  {
   "cell_type": "markdown",
   "metadata": {},
   "source": [
    "7. 例子\n",
    "   - 函数注释\n",
    "   ```\n",
    "   def function(a, b):\n",
    "    \"\"\"Do X and return a list\n",
    "    \n",
    "    \n",
    "    \"\"\"\n",
    "    return\n",
    "   ```"
   ]
  },
  {
   "cell_type": "markdown",
   "metadata": {},
   "source": [
    "    def function(a, b):\n",
    "    \"\"\"Do X and return a list\n",
    "    \n",
    "    \n",
    "    \"\"\"\n",
    "    return"
   ]
  },
  {
   "cell_type": "code",
   "execution_count": null,
   "metadata": {},
   "outputs": [],
   "source": [
    "def function(a, b):\n",
    "    \"\"\"Add a, b and return the result\n",
    "    \n",
    "    \n",
    "    \"\"\"\n",
    "    return a+b"
   ]
  }
 ],
 "metadata": {
  "kernelspec": {
   "display_name": "Python 3",
   "language": "python",
   "name": "python3"
  },
  "language_info": {
   "codemirror_mode": {
    "name": "ipython",
    "version": 3
   },
   "file_extension": ".py",
   "mimetype": "text/x-python",
   "name": "python",
   "nbconvert_exporter": "python",
   "pygments_lexer": "ipython3",
   "version": "3.7.6"
  }
 },
 "nbformat": 4,
 "nbformat_minor": 2
}
